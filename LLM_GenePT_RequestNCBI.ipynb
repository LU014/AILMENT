{
 "cells": [
  {
   "cell_type": "code",
   "execution_count": 3,
   "id": "f8a72a58-de3c-4da3-b09e-aaa84a7a828a",
   "metadata": {},
   "outputs": [],
   "source": [
    "import requests\n",
    "from bs4 import BeautifulSoup\n",
    "import html2text\n",
    "import mygene\n",
    "import json\n",
    "import pickle\n",
    "mg = mygene.MyGeneInfo()"
   ]
  },
  {
   "cell_type": "code",
   "execution_count": 5,
   "id": "5e0bb856-fc11-4ba1-9747-25e1164c1053",
   "metadata": {},
   "outputs": [],
   "source": [
    "import requests\n",
    "from bs4 import BeautifulSoup\n",
    "import html2text\n",
    "import mygene\n",
    "import json\n",
    "import pickle\n",
    "mg = mygene.MyGeneInfo()\n",
    "parts_to_remove = [\n",
    "    \"##  Summary\\n\",\n",
    "    \"NEW\",\n",
    "    'Try the newGene table',\n",
    "    'Try the newTranscript table',\n",
    "    '**',\n",
    "    \"\\nGo to the top of the page Help\\n\"\n",
    "]\n",
    "\n",
    "def rough_text_from_gene_name(gene_number):\n",
    "    \n",
    "    # get url\n",
    "    url = f\"https://www.ncbi.nlm.nih.gov/gene/{gene_number}\"\n",
    "    # Send a GET request to the URL\n",
    "    summary_text = ''\n",
    "    soup = None\n",
    "    try:\n",
    "        response = requests.get(url, timeout=30)\n",
    "    except requests.exceptions.Timeout:\n",
    "        print('time out')\n",
    "        return((summary_text,soup))\n",
    "    # Check if the request was successful (status code 200)\n",
    "    if response.status_code == 200:\n",
    "        # Parse the HTML content of the page\n",
    "        soup = BeautifulSoup(response.content, 'html.parser')\n",
    "\n",
    "        # Find the \"summary\" tab content by inspecting the page's structure\n",
    "        summary_tab = soup.find('div', {'class': 'rprt-section gene-summary'})\n",
    "\n",
    "        # Check if the \"summary\" tab content is found\n",
    "        if summary_tab:\n",
    "            # Convert the HTML to plain text using html2text\n",
    "            html_to_text = html2text.HTML2Text()\n",
    "            html_to_text.ignore_links = True  # Ignore hyperlinks\n",
    "\n",
    "            # Extract the plain text from the \"summary\" tab\n",
    "            summary_text = html_to_text.handle(str(summary_tab))\n",
    "            # Remove the specified parts from the original text\n",
    "            for part in parts_to_remove:\n",
    "                summary_text = summary_text.replace(part, ' ')\n",
    "                # Replace '\\n' with a space\n",
    "            summary_text = summary_text.replace('\\n', ' ')\n",
    "\n",
    "            # Reduce multiple spaces into one space\n",
    "            summary_text = ' '.join(summary_text.split())\n",
    "            # Print or save the extracted text\n",
    "        else:\n",
    "            print(\"Summary tab not found on the page.\")\n",
    "    else:\n",
    "        print(f\"Failed to retrieve the webpage. Status code: {response.status_code}\")\n",
    "    return((summary_text,soup))\n"
   ]
  },
  {
   "cell_type": "code",
   "execution_count": 6,
   "id": "76914219-1a95-4caa-a8bf-e7841719fed2",
   "metadata": {},
   "outputs": [],
   "source": [
    "# Using Gene CD24 as an example\n",
    "cd_24_name = mg.querymany('CD24', scopes='symbol', species='human')"
   ]
  },
  {
   "cell_type": "code",
   "execution_count": 7,
   "id": "a57d3ece-98b7-44ab-89df-e0e7b28d2eed",
   "metadata": {},
   "outputs": [
    {
     "data": {
      "text/plain": [
       "{'CD24': '100133941'}"
      ]
     },
     "execution_count": 7,
     "metadata": {},
     "output_type": "execute_result"
    }
   ],
   "source": [
    "gene_name_to_tax_id = {}\n",
    "for result in cd_24_name:\n",
    "    if \"_id\" in result and \"query\" in result:\n",
    "        gene_name_to_tax_id[result['symbol']] = result['_id']\n",
    "gene_name_to_tax_id"
   ]
  },
  {
   "cell_type": "code",
   "execution_count": 12,
   "id": "b543794f-b72b-4b29-bbff-fc81b32d53cc",
   "metadata": {},
   "outputs": [],
   "source": [
    "with open('/Applications/LZY/WUR_Master_Internship/GenePT/vocab.json', 'rb') as handle:\n",
    "    vocab_gene = json.load(handle)\n",
    "vocab_gene_list = list(vocab_gene.keys())"
   ]
  },
  {
   "cell_type": "code",
   "execution_count": 13,
   "id": "8ceda4c7-7181-4107-aabc-4dad35d02104",
   "metadata": {},
   "outputs": [],
   "source": [
    "gene_name_to_summary_page = {}"
   ]
  },
  {
   "cell_type": "code",
   "execution_count": 14,
   "id": "7e7f98bb-ffc3-4047-9186-4406cf53d4e4",
   "metadata": {},
   "outputs": [
    {
     "name": "stdout",
     "output_type": "stream",
     "text": [
      "gene_name CD24\n"
     ]
    }
   ],
   "source": [
    "for gene_name, page_id in sorted(gene_name_to_tax_id.items()):\n",
    "    if gene_name not in gene_name_to_summary_page:\n",
    "        print('gene_name',gene_name)\n",
    "        parsed_text, unparsed_html = rough_text_from_gene_name(page_id)\n",
    "        gene_name_to_summary_page[gene_name] = parsed_text"
   ]
  },
  {
   "cell_type": "code",
   "execution_count": 15,
   "id": "cf54d608-b199-4305-a9f2-30b9eb541a0b",
   "metadata": {},
   "outputs": [
    {
     "data": {
      "text/plain": [
       "{'CD24': 'Official Symbol CD24provided by HGNC Official Full Name CD24 moleculeprovided by HGNC Primary source HGNC:HGNC:1645 See related Ensembl:ENSG00000272398 MIM:600074; AllianceGenome:HGNC:1645 Gene type protein coding RefSeq status REVIEWED Organism Homo sapiens Lineage Eukaryota; Metazoa; Chordata; Craniata; Vertebrata; Euteleostomi; Mammalia; Eutheria; Euarchontoglires; Primates; Haplorrhini; Catarrhini; Hominidae; Homo Also known as CD24A Summary This gene encodes a sialoglycoprotein that is expressed on mature granulocytes and B cells and modulates growth and differentiation signals to these cells. The precursor protein is cleaved to a short 32 amino acid mature peptide which is anchored via a glycosyl phosphatidylinositol (GPI) link to the cell surface. This gene was missing from previous genome assemblies, but is properly located on chromosome 6. Non-transcribed pseudogenes have been designated on chromosomes 1, 15, 20, and Y. Alternative splicing results in multiple transcript variants. [provided by RefSeq, Apr 2014] Expression Biased expression in thyroid (RPKM 586.8), esophagus (RPKM 431.3) and 12 other tissues See more Orthologs mouse all'}"
      ]
     },
     "execution_count": 15,
     "metadata": {},
     "output_type": "execute_result"
    }
   ],
   "source": [
    "gene_name_to_summary_page"
   ]
  },
  {
   "cell_type": "code",
   "execution_count": null,
   "id": "bdeeb67b-7ada-4249-b075-939cdaddef65",
   "metadata": {},
   "outputs": [],
   "source": []
  }
 ],
 "metadata": {
  "kernelspec": {
   "display_name": "Python 3 (ipykernel)",
   "language": "python",
   "name": "python3"
  },
  "language_info": {
   "codemirror_mode": {
    "name": "ipython",
    "version": 3
   },
   "file_extension": ".py",
   "mimetype": "text/x-python",
   "name": "python",
   "nbconvert_exporter": "python",
   "pygments_lexer": "ipython3",
   "version": "3.11.7"
  }
 },
 "nbformat": 4,
 "nbformat_minor": 5
}
